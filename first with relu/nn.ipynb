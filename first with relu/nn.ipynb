{
 "cells": [
  {
   "cell_type": "code",
   "execution_count": 1,
   "id": "1eddb0e6",
   "metadata": {},
   "outputs": [],
   "source": [
    "import torch\n",
    "import torch.nn as nn\n",
    "import torch.nn.functional as F"
   ]
  },
  {
   "cell_type": "markdown",
   "id": "a9be6e19",
   "metadata": {},
   "source": [
    "# Create a Model class that inherits nn model"
   ]
  },
  {
   "cell_type": "code",
   "execution_count": 2,
   "id": "70f87483",
   "metadata": {},
   "outputs": [],
   "source": [
    "class Model(nn.Module):\n",
    "    # input layer 4 features of the flower -->\n",
    "    # hidden layer1 with number of neurons H1 -->\n",
    "    # H2 (n) -->output 3 classifiers\n",
    "    def __init__(self,in_features=4,h1=8,h2=9,out_features=3):\n",
    "        super().__init__()\n",
    "        self.fc1=nn.Linear(in_features,h1) # fc means fully connected\n",
    "        self.fc2=nn.Linear(h1,h2)\n",
    "        self.out=nn.Linear(h2,out_features)\n",
    "    def forward(self,x):\n",
    "        x=F.relu(self.fc1(x))\n",
    "        x=F.relu(self.fc2(x))\n",
    "        x=self.out(x)\n",
    "        return x"
   ]
  },
  {
   "cell_type": "markdown",
   "id": "2e5bc92d",
   "metadata": {},
   "source": [
    "Have to create manual seed.to get same randomization"
   ]
  },
  {
   "cell_type": "code",
   "execution_count": 3,
   "id": "f1a33f2e",
   "metadata": {},
   "outputs": [
    {
     "data": {
      "text/plain": [
       "<torch._C.Generator at 0x17121480410>"
      ]
     },
     "execution_count": 3,
     "metadata": {},
     "output_type": "execute_result"
    }
   ],
   "source": [
    "torch.manual_seed(41)"
   ]
  },
  {
   "cell_type": "code",
   "execution_count": 4,
   "id": "6486550e",
   "metadata": {},
   "outputs": [],
   "source": [
    "model=Model()"
   ]
  },
  {
   "cell_type": "code",
   "execution_count": 5,
   "id": "d304defa",
   "metadata": {},
   "outputs": [],
   "source": [
    "import matplotlib.pyplot as plt\n",
    "%matplotlib inline\n",
    "# inline for inline graphs\n",
    "\n",
    "import pandas as pd\n"
   ]
  },
  {
   "cell_type": "code",
   "execution_count": 6,
   "id": "3c4b74b6",
   "metadata": {},
   "outputs": [
    {
     "name": "stdout",
     "output_type": "stream",
     "text": [
      "<class 'pandas.core.frame.DataFrame'>\n",
      "RangeIndex: 150 entries, 0 to 149\n",
      "Data columns (total 5 columns):\n",
      " #   Column        Non-Null Count  Dtype  \n",
      "---  ------        --------------  -----  \n",
      " 0   sepal.length  150 non-null    float64\n",
      " 1   sepal.width   150 non-null    float64\n",
      " 2   petal.length  150 non-null    float64\n",
      " 3   petal.width   150 non-null    float64\n",
      " 4   variety       150 non-null    object \n",
      "dtypes: float64(4), object(1)\n",
      "memory usage: 6.0+ KB\n"
     ]
    }
   ],
   "source": [
    "my_df=pd.read_csv(\"iris.data.csv\")\n",
    "my_df.info()"
   ]
  },
  {
   "cell_type": "code",
   "execution_count": 7,
   "id": "2fb657d2",
   "metadata": {},
   "outputs": [
    {
     "data": {
      "text/plain": [
       "array(['Iris-setosa', 'Iris-versicolor', 'Iris-virginica'], dtype=object)"
      ]
     },
     "execution_count": 7,
     "metadata": {},
     "output_type": "execute_result"
    }
   ],
   "source": [
    "my_df['variety'].unique()"
   ]
  },
  {
   "cell_type": "code",
   "execution_count": 8,
   "id": "9c9cd0e5",
   "metadata": {},
   "outputs": [
    {
     "name": "stderr",
     "output_type": "stream",
     "text": [
      "C:\\Users\\DASUN\\AppData\\Local\\Temp\\ipykernel_332\\3072324116.py:3: FutureWarning: Downcasting behavior in `replace` is deprecated and will be removed in a future version. To retain the old behavior, explicitly call `result.infer_objects(copy=False)`. To opt-in to the future behavior, set `pd.set_option('future.no_silent_downcasting', True)`\n",
      "  my_df['variety']=my_df['variety'].replace('Iris-virginica',2.0)\n"
     ]
    }
   ],
   "source": [
    "my_df['variety']=my_df['variety'].replace('Iris-setosa',0.0)\n",
    "my_df['variety']=my_df['variety'].replace('Iris-versicolor',1.0)\n",
    "my_df['variety']=my_df['variety'].replace('Iris-virginica',2.0)"
   ]
  },
  {
   "cell_type": "code",
   "execution_count": 9,
   "id": "20ea1a79",
   "metadata": {},
   "outputs": [],
   "source": [
    "# Train Test split set X y\n",
    "X=my_df.drop('variety' ,axis=1)\n",
    "y = my_df['variety']\n",
    "\n",
    "#convert to numpy arrays\n",
    "X=X.values\n",
    "y=y.values"
   ]
  },
  {
   "cell_type": "code",
   "execution_count": 10,
   "id": "61d5ba33",
   "metadata": {},
   "outputs": [],
   "source": [
    "from sklearn.model_selection import train_test_split\n",
    "X_train,X_test,y_train,y_test=train_test_split(X,y,test_size=0.2,random_state=41)"
   ]
  },
  {
   "cell_type": "code",
   "execution_count": 11,
   "id": "4acbe26b",
   "metadata": {},
   "outputs": [],
   "source": [
    "#convert to float tensors\n",
    "X_train=torch.FloatTensor(X_train)\n",
    "X_test = torch.FloatTensor(X_test)\n",
    "\n",
    "y_train=torch.LongTensor(y_train)\n",
    "y_test=torch.LongTensor(y_test)"
   ]
  },
  {
   "cell_type": "markdown",
   "id": "fcc589ac",
   "metadata": {},
   "source": [
    "set criterion of the model to mesure the error"
   ]
  },
  {
   "cell_type": "code",
   "execution_count": 12,
   "id": "2a003c22",
   "metadata": {},
   "outputs": [],
   "source": [
    "criterion =nn.CrossEntropyLoss()\n",
    "#choose Adam optimizer,learning rate\n",
    "optimizer=torch.optim.Adam(model.parameters(),lr=0.01)\n",
    "\n",
    "#model params are fc1 fc2 and output\n",
    " \n"
   ]
  },
  {
   "cell_type": "code",
   "execution_count": 13,
   "id": "ff40b58e",
   "metadata": {},
   "outputs": [
    {
     "data": {
      "text/plain": [
       "<bound method Module.parameters of Model(\n",
       "  (fc1): Linear(in_features=4, out_features=8, bias=True)\n",
       "  (fc2): Linear(in_features=8, out_features=9, bias=True)\n",
       "  (out): Linear(in_features=9, out_features=3, bias=True)\n",
       ")>"
      ]
     },
     "execution_count": 13,
     "metadata": {},
     "output_type": "execute_result"
    }
   ],
   "source": [
    "model.parameters"
   ]
  },
  {
   "cell_type": "code",
   "execution_count": 14,
   "id": "5eaad310",
   "metadata": {},
   "outputs": [
    {
     "name": "stdout",
     "output_type": "stream",
     "text": [
      "Epoch: 0 and loss: 1.1251550912857056\n",
      "Epoch: 10 and loss: 1.0096259117126465\n",
      "Epoch: 20 and loss: 0.8157405257225037\n",
      "Epoch: 30 and loss: 0.585706353187561\n",
      "Epoch: 40 and loss: 0.3999636471271515\n",
      "Epoch: 50 and loss: 0.26768800616264343\n",
      "Epoch: 60 and loss: 0.17942363023757935\n",
      "Epoch: 70 and loss: 0.12151691317558289\n",
      "Epoch: 80 and loss: 0.0860118493437767\n",
      "Epoch: 90 and loss: 0.06520850956439972\n",
      "Epoch: 100 and loss: 0.052865754812955856\n",
      "Epoch: 110 and loss: 0.04508380591869354\n",
      "Epoch: 120 and loss: 0.0397995188832283\n",
      "Epoch: 130 and loss: 0.03597070649266243\n",
      "Epoch: 140 and loss: 0.0329371802508831\n"
     ]
    }
   ],
   "source": [
    "#train the model.\n",
    "#determine how many epchs we want\n",
    "epochs=150\n",
    "#if loss don't decrease over time we want to change lr\n",
    "losses=[]\n",
    "for i in range(epochs):\n",
    "    #go forward and get a prediction\n",
    "    y_pred=model.forward(X_train) \n",
    "    \n",
    "    #measure loss\n",
    "    loss = criterion(y_pred,y_train)\n",
    "    \n",
    "    #keep track of losses\n",
    "    losses.append(loss.detach().numpy())\n",
    "    \n",
    "    #print every 10 epochs\n",
    "    if i%10==0:\n",
    "        print(f\"Epoch: {i} and loss: {loss}\")\n",
    "    #Do some back propagation\n",
    "    optimizer.zero_grad()\n",
    "    loss.backward()\n",
    "    optimizer.step()\n",
    "    "
   ]
  },
  {
   "cell_type": "code",
   "execution_count": 15,
   "id": "6542c12c",
   "metadata": {},
   "outputs": [
    {
     "data": {
      "text/plain": [
       "Text(0.5, 0, 'epochs')"
      ]
     },
     "execution_count": 15,
     "metadata": {},
     "output_type": "execute_result"
    },
    {
     "data": {
      "image/png": "[encoded data removed]",
      "text/plain": [
       "<Figure size 640x480 with 1 Axes>"
      ]
     },
     "metadata": {},
     "output_type": "display_data"
    }
   ],
   "source": [
    "#graph it\n",
    "plt.plot(range(epochs),losses)\n",
    "plt.ylabel(\"loss/error\")\n",
    "plt.xlabel(\"epochs\")"
   ]
  },
  {
   "cell_type": "markdown",
   "id": "5bc0c0cc",
   "metadata": {},
   "source": [
    "Evaluate model on test"
   ]
  },
  {
   "cell_type": "code",
   "execution_count": 16,
   "id": "262c1d87",
   "metadata": {},
   "outputs": [
    {
     "data": {
      "text/plain": [
       "tensor(0.1332)"
      ]
     },
     "execution_count": 16,
     "metadata": {},
     "output_type": "execute_result"
    }
   ],
   "source": [
    "with torch.no_grad(): #basically turn of back propagations\n",
    "    y_eval=model.forward(X_test)\n",
    "    loss =criterion(y_eval,y_test)\n",
    "loss\n",
    "    "
   ]
  },
  {
   "cell_type": "code",
   "execution_count": 19,
   "id": "09c810cf",
   "metadata": {},
   "outputs": [
    {
     "name": "stdout",
     "output_type": "stream",
     "text": [
      "1.) tensor([-6.8604,  4.7464,  7.6692]) \t 2\n",
      "2.) tensor([-8.8358,  3.6727, 12.1556]) \t 2\n",
      "3.) tensor([-9.9072,  4.8788, 12.6108]) \t 2\n",
      "4.) tensor([-5.0473,  7.0555,  2.0779]) \t 1\n",
      "5.) tensor([-8.4233,  4.9096, 10.0999]) \t 2\n",
      "6.) tensor([-3.7448,  6.2176,  0.7234]) \t 1\n",
      "7.) tensor([-6.9435,  5.5172,  6.9513]) \t 2\n",
      "8.) tensor([-4.9913,  7.1507,  1.8686]) \t 1\n",
      "9.) tensor([-7.6676,  5.2079,  8.5077]) \t 2\n",
      "10.) tensor([-9.4403,  3.8758, 12.9474]) \t 2\n",
      "11.) tensor([-6.6576,  5.5452,  6.4533]) \t 2\n",
      "12.) tensor([ 6.5208, -3.9182, -5.2198]) \t 0\n",
      "13.) tensor([ 6.0236, -3.4996, -4.8094]) \t 0\n",
      "14.) tensor([-2.2259e+00,  4.6106e+00, -3.4486e-03]) \t 1\n",
      "15.) tensor([ 4.9732, -2.4099, -4.3255]) \t 0\n",
      "16.) tensor([-6.3978,  5.9106,  5.6281]) \t 2\n",
      "17.) tensor([ 5.7967, -3.2543, -4.7462]) \t 0\n",
      "18.) tensor([-6.7901,  4.9821,  7.3040]) \t 1\n",
      "19.) tensor([ 6.3231, -3.7510, -5.0594]) \t 0\n",
      "20.) tensor([ 4.8864, -2.3985, -4.1618]) \t 0\n",
      "21.) tensor([-2.8104,  5.2290,  0.2752]) \t 1\n",
      "22.) tensor([-9.0848,  4.4888, 11.6702]) \t 2\n",
      "23.) tensor([ 5.1063, -2.5427, -4.4007]) \t 0\n",
      "24.) tensor([ 6.4350, -3.8669, -5.1006]) \t 0\n",
      "25.) tensor([-2.8604,  5.3075,  0.2625]) \t 1\n",
      "26.) tensor([-3.6045,  6.0513,  0.6823]) \t 1\n",
      "27.) tensor([-5.4362,  7.1818,  2.5968]) \t 1\n",
      "28.) tensor([-3.1857,  5.6235,  0.4555]) \t 1\n",
      "29.) tensor([ 6.5336, -3.9375, -5.2093]) \t 0\n",
      "30.) tensor([-5.3584,  6.7449,  2.9694]) \t 1\n",
      "we got correct:28\n"
     ]
    }
   ],
   "source": [
    "correct=0\n",
    "with torch.no_grad():\n",
    "    for i,data in enumerate(X_test):\n",
    "        y_val=model.forward(data)\n",
    "        #what type of flower\n",
    "        print(f\"{i+1}.) {str(y_val)} \\t {y_test[i]}\")\n",
    "        \n",
    "        #correct or not\n",
    "        if y_val.argmax().item()==y_test[i]:\n",
    "            correct +=1\n",
    "print(f\"we got correct:{correct}\")"
   ]
  },
  {
   "cell_type": "markdown",
   "id": "8e2830b3",
   "metadata": {},
   "source": [
    "New Iris data"
   ]
  },
  {
   "cell_type": "code",
   "execution_count": 23,
   "id": "ff9dff46",
   "metadata": {},
   "outputs": [
    {
     "name": "stdout",
     "output_type": "stream",
     "text": [
      "tensor(2)\n"
     ]
    }
   ],
   "source": [
    "new_iris=torch.tensor([5.9,3.0,5.1,1.8])\n",
    "\n",
    "with torch.no_grad():\n",
    "    print(model(new_iris).argmax())"
   ]
  },
  {
   "cell_type": "markdown",
   "id": "49cc9fad",
   "metadata": {},
   "source": [
    "# Save NN model"
   ]
  },
  {
   "cell_type": "code",
   "execution_count": 24,
   "id": "cd42732b",
   "metadata": {},
   "outputs": [],
   "source": [
    "torch.save(model.state_dict(),'my_iris_model.pt') #save weights and biases"
   ]
  },
  {
   "cell_type": "markdown",
   "id": "1f9e9d2f",
   "metadata": {},
   "source": [
    "# Load Model"
   ]
  },
  {
   "cell_type": "code",
   "execution_count": 25,
   "id": "96fad667",
   "metadata": {},
   "outputs": [
    {
     "data": {
      "text/plain": [
       "<All keys matched successfully>"
      ]
     },
     "execution_count": 25,
     "metadata": {},
     "output_type": "execute_result"
    }
   ],
   "source": [
    "new_model=Model()\n",
    "new_model.load_state_dict(torch.load('my_iris_model.pt'))"
   ]
  },
  {
   "cell_type": "code",
   "execution_count": 26,
   "id": "e511fb47",
   "metadata": {},
   "outputs": [
    {
     "data": {
      "text/plain": [
       "Model(\n",
       "  (fc1): Linear(in_features=4, out_features=8, bias=True)\n",
       "  (fc2): Linear(in_features=8, out_features=9, bias=True)\n",
       "  (out): Linear(in_features=9, out_features=3, bias=True)\n",
       ")"
      ]
     },
     "execution_count": 26,
     "metadata": {},
     "output_type": "execute_result"
    }
   ],
   "source": [
    "new_model.eval(\n",
    ")"
   ]
  },
  {
   "cell_type": "code",
   "execution_count": null,
   "id": "d1b4b864",
   "metadata": {},
   "outputs": [],
   "source": []
  }
 ],
 "metadata": {
  "kernelspec": {
   "display_name": "Python 3",
   "language": "python",
   "name": "python3"
  },
  "language_info": {
   "codemirror_mode": {
    "name": "ipython",
    "version": 3
   },
   "file_extension": ".py",
   "mimetype": "text/x-python",
   "name": "python",
   "nbconvert_exporter": "python",
   "pygments_lexer": "ipython3",
   "version": "3.11.3"
  }
 },
 "nbformat": 4,
 "nbformat_minor": 5
}
