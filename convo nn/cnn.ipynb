{
 "cells": [
  {
   "cell_type": "markdown",
   "id": "74fb036e",
   "metadata": {},
   "source": [
    "# CNN with MNIST data set"
   ]
  },
  {
   "cell_type": "code",
   "execution_count": 19,
   "id": "c800c674",
   "metadata": {},
   "outputs": [],
   "source": [
    "import torch\n",
    "import torch.nn as nn\n",
    "import torch.nn.functional as F\n",
    "from torch.utils.data import DataLoader\n",
    "from torchvision import datasets,transforms\n",
    "from torchvision.utils import make_grid\n",
    "import numpy as np\n",
    "import pandas as pd\n",
    "from sklearn.metrics import confusion_matrix\n",
    "import matplotlib.pyplot as plt\n",
    "%matplotlib inline"
   ]
  },
  {
   "cell_type": "markdown",
   "id": "eef8d25e",
   "metadata": {},
   "source": [
    "Convert mnist images to tesnors of 4 dimenstions (# of images,height width,color channel)"
   ]
  },
  {
   "cell_type": "code",
   "execution_count": 2,
   "id": "0e899fd1",
   "metadata": {},
   "outputs": [],
   "source": [
    "transform = transforms.ToTensor()"
   ]
  },
  {
   "cell_type": "code",
   "execution_count": 6,
   "id": "450a22db",
   "metadata": {},
   "outputs": [
    {
     "name": "stderr",
     "output_type": "stream",
     "text": [
      "100%|██████████| 9.91M/9.91M [00:11<00:00, 857kB/s] \n",
      "100%|██████████| 28.9k/28.9k [00:00<00:00, 99.6kB/s]\n",
      "100%|██████████| 1.65M/1.65M [00:07<00:00, 221kB/s] \n",
      "100%|██████████| 4.54k/4.54k [00:00<00:00, 2.24MB/s]\n"
     ]
    }
   ],
   "source": [
    "# Load the dataset from local files\n",
    "train_data = datasets.MNIST(root='/cnn_data', train=True, download=True, transform=transform)"
   ]
  },
  {
   "cell_type": "code",
   "execution_count": 7,
   "id": "56ea1588",
   "metadata": {},
   "outputs": [],
   "source": [
    "# Load the dataset from local files\n",
    "test_data = datasets.MNIST(root='/cnn_data', train=False, download=True, transform=transform)"
   ]
  },
  {
   "cell_type": "code",
   "execution_count": 9,
   "id": "64532a67",
   "metadata": {},
   "outputs": [
    {
     "data": {
      "text/plain": [
       "Dataset MNIST\n",
       "    Number of datapoints: 10000\n",
       "    Root location: /cnn_data\n",
       "    Split: Test\n",
       "    StandardTransform\n",
       "Transform: ToTensor()"
      ]
     },
     "execution_count": 9,
     "metadata": {},
     "output_type": "execute_result"
    }
   ],
   "source": [
    "test_data"
   ]
  },
  {
   "cell_type": "code",
   "execution_count": 20,
   "id": "5bdcb25c",
   "metadata": {},
   "outputs": [],
   "source": [
    " #create a small batch of images\n",
    "train_loader=DataLoader(train_data,batch_size=10 ,shuffle=True)\n",
    "test_loader=DataLoader(test_data,batch_size=10 ,shuffle=False)"
   ]
  },
  {
   "cell_type": "code",
   "execution_count": 47,
   "id": "fd393cfc",
   "metadata": {},
   "outputs": [],
   "source": [
    "#Define CNN model\n",
    "# Describe convo layer and what its doing\n",
    "#no need to add padding because most of the data is in the middle\n",
    "conv1= nn.Conv2d(1,6,3,1)\n",
    "conv2=nn.Conv2d(6,16,3,1)"
   ]
  },
  {
   "cell_type": "code",
   "execution_count": 48,
   "id": "f1179a2b",
   "metadata": {},
   "outputs": [
    {
     "data": {
      "text/plain": [
       "torch.Size([1, 28, 28])"
      ]
     },
     "execution_count": 48,
     "metadata": {},
     "output_type": "execute_result"
    }
   ],
   "source": [
    "#grab one image from mnsit\n",
    "for i,(X_train,y_train) in enumerate(train_data):\n",
    "    break\n",
    "X_train.shape"
   ]
  },
  {
   "cell_type": "markdown",
   "id": "6dda35e7",
   "metadata": {},
   "source": [
    "1 batch by 1 image of 28 28"
   ]
  },
  {
   "cell_type": "code",
   "execution_count": 49,
   "id": "b1f3a1da",
   "metadata": {},
   "outputs": [],
   "source": [
    "x=X_train.view(1,1,28,28)"
   ]
  },
  {
   "cell_type": "markdown",
   "id": "249f80d3",
   "metadata": {},
   "source": [
    "first convolution"
   ]
  },
  {
   "cell_type": "code",
   "execution_count": 50,
   "id": "45b73d49",
   "metadata": {},
   "outputs": [],
   "source": [
    "x=F.relu(conv1(x))"
   ]
  },
  {
   "cell_type": "code",
   "execution_count": 51,
   "id": "1a6ee0e4",
   "metadata": {},
   "outputs": [
    {
     "data": {
      "text/plain": [
       "torch.Size([1, 6, 26, 26])"
      ]
     },
     "execution_count": 51,
     "metadata": {},
     "output_type": "execute_result"
    }
   ],
   "source": [
    "x.shape"
   ]
  },
  {
   "cell_type": "markdown",
   "id": "c3986325",
   "metadata": {},
   "source": [
    "Pooling layer"
   ]
  },
  {
   "cell_type": "code",
   "execution_count": 52,
   "id": "5e33a2b1",
   "metadata": {},
   "outputs": [],
   "source": [
    "x = F.max_pool2d(x,2,2)"
   ]
  },
  {
   "cell_type": "markdown",
   "id": "f0545760",
   "metadata": {},
   "source": [
    "26/2=13"
   ]
  },
  {
   "cell_type": "code",
   "execution_count": 53,
   "id": "610f381d",
   "metadata": {},
   "outputs": [
    {
     "data": {
      "text/plain": [
       "torch.Size([1, 6, 13, 13])"
      ]
     },
     "execution_count": 53,
     "metadata": {},
     "output_type": "execute_result"
    }
   ],
   "source": [
    "x.shape"
   ]
  },
  {
   "cell_type": "markdown",
   "id": "202d2a79",
   "metadata": {},
   "source": [
    "DO second convo"
   ]
  },
  {
   "cell_type": "code",
   "execution_count": 54,
   "id": "6e64cd9c",
   "metadata": {},
   "outputs": [
    {
     "data": {
      "text/plain": [
       "torch.Size([1, 16, 11, 11])"
      ]
     },
     "execution_count": 54,
     "metadata": {},
     "output_type": "execute_result"
    }
   ],
   "source": [
    "x = F.relu(conv2(x))\n",
    "x.shape"
   ]
  },
  {
   "cell_type": "code",
   "execution_count": 56,
   "id": "34d47073",
   "metadata": {},
   "outputs": [
    {
     "data": {
      "text/plain": [
       "torch.Size([1, 16, 5, 5])"
      ]
     },
     "execution_count": 56,
     "metadata": {},
     "output_type": "execute_result"
    }
   ],
   "source": [
    "x=F.max_pool2d(x,2,2)\n",
    "x.shape"
   ]
  },
  {
   "cell_type": "code",
   "execution_count": null,
   "id": "f8ee4e15",
   "metadata": {},
   "outputs": [],
   "source": []
  }
 ],
 "metadata": {
  "kernelspec": {
   "display_name": "Python 3",
   "language": "python",
   "name": "python3"
  },
  "language_info": {
   "codemirror_mode": {
    "name": "ipython",
    "version": 3
   },
   "file_extension": ".py",
   "mimetype": "text/x-python",
   "name": "python",
   "nbconvert_exporter": "python",
   "pygments_lexer": "ipython3",
   "version": "3.11.3"
  }
 },
 "nbformat": 4,
 "nbformat_minor": 5
}
