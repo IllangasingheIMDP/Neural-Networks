{
 "cells": [
  {
   "cell_type": "markdown",
   "id": "74fb036e",
   "metadata": {},
   "source": [
    "# CNN with MNIST data set"
   ]
  },
  {
   "cell_type": "code",
   "execution_count": 19,
   "id": "c800c674",
   "metadata": {},
   "outputs": [],
   "source": [
    "import torch\n",
    "import torch.nn as nn\n",
    "import torch.nn.functional as F\n",
    "from torch.utils.data import DataLoader\n",
    "from torchvision import datasets,transforms\n",
    "from torchvision.utils import make_grid\n",
    "import numpy as np\n",
    "import pandas as pd\n",
    "from sklearn.metrics import confusion_matrix\n",
    "import matplotlib.pyplot as plt\n",
    "%matplotlib inline"
   ]
  },
  {
   "cell_type": "markdown",
   "id": "eef8d25e",
   "metadata": {},
   "source": [
    "Convert mnist images to tesnors of 4 dimenstions (# of images,height width,color channel)"
   ]
  },
  {
   "cell_type": "code",
   "execution_count": 2,
   "id": "0e899fd1",
   "metadata": {},
   "outputs": [],
   "source": [
    "transform = transforms.ToTensor()"
   ]
  },
  {
   "cell_type": "code",
   "execution_count": 6,
   "id": "450a22db",
   "metadata": {},
   "outputs": [
    {
     "name": "stderr",
     "output_type": "stream",
     "text": [
      "100%|██████████| 9.91M/9.91M [00:11<00:00, 857kB/s] \n",
      "100%|██████████| 28.9k/28.9k [00:00<00:00, 99.6kB/s]\n",
      "100%|██████████| 1.65M/1.65M [00:07<00:00, 221kB/s] \n",
      "100%|██████████| 4.54k/4.54k [00:00<00:00, 2.24MB/s]\n"
     ]
    }
   ],
   "source": [
    "# Load the dataset from local files\n",
    "train_data = datasets.MNIST(root='/cnn_data', train=True, download=True, transform=transform)"
   ]
  },
  {
   "cell_type": "code",
   "execution_count": 7,
   "id": "56ea1588",
   "metadata": {},
   "outputs": [],
   "source": [
    "# Load the dataset from local files\n",
    "test_data = datasets.MNIST(root='/cnn_data', train=False, download=True, transform=transform)"
   ]
  },
  {
   "cell_type": "code",
   "execution_count": 9,
   "id": "64532a67",
   "metadata": {},
   "outputs": [
    {
     "data": {
      "text/plain": [
       "Dataset MNIST\n",
       "    Number of datapoints: 10000\n",
       "    Root location: /cnn_data\n",
       "    Split: Test\n",
       "    StandardTransform\n",
       "Transform: ToTensor()"
      ]
     },
     "execution_count": 9,
     "metadata": {},
     "output_type": "execute_result"
    }
   ],
   "source": [
    "test_data"
   ]
  },
  {
   "cell_type": "code",
   "execution_count": 20,
   "id": "5bdcb25c",
   "metadata": {},
   "outputs": [],
   "source": [
    " #create a small batch of images\n",
    "train_loader=DataLoader(train_data,batch_size=10 ,shuffle=True)\n",
    "test_loader=DataLoader(test_data,batch_size=10 ,shuffle=False)"
   ]
  },
  {
   "cell_type": "code",
   "execution_count": 47,
   "id": "fd393cfc",
   "metadata": {},
   "outputs": [],
   "source": [
    "#Define CNN model\n",
    "# Describe convo layer and what its doing\n",
    "#no need to add padding because most of the data is in the middle\n",
    "conv1= nn.Conv2d(1,6,3,1)\n",
    "conv2=nn.Conv2d(6,16,3,1)"
   ]
  },
  {
   "cell_type": "code",
   "execution_count": 48,
   "id": "f1179a2b",
   "metadata": {},
   "outputs": [
    {
     "data": {
      "text/plain": [
       "torch.Size([1, 28, 28])"
      ]
     },
     "execution_count": 48,
     "metadata": {},
     "output_type": "execute_result"
    }
   ],
   "source": [
    "#grab one image from mnsit\n",
    "for i,(X_train,y_train) in enumerate(train_data):\n",
    "    break\n",
    "X_train.shape"
   ]
  },
  {
   "cell_type": "markdown",
   "id": "6dda35e7",
   "metadata": {},
   "source": [
    "1 batch by 1 image of 28 28"
   ]
  },
  {
   "cell_type": "code",
   "execution_count": 49,
   "id": "b1f3a1da",
   "metadata": {},
   "outputs": [],
   "source": [
    "x=X_train.view(1,1,28,28)"
   ]
  },
  {
   "cell_type": "markdown",
   "id": "249f80d3",
   "metadata": {},
   "source": [
    "first convolution"
   ]
  },
  {
   "cell_type": "code",
   "execution_count": 50,
   "id": "45b73d49",
   "metadata": {},
   "outputs": [],
   "source": [
    "x=F.relu(conv1(x))"
   ]
  },
  {
   "cell_type": "code",
   "execution_count": 51,
   "id": "1a6ee0e4",
   "metadata": {},
   "outputs": [
    {
     "data": {
      "text/plain": [
       "torch.Size([1, 6, 26, 26])"
      ]
     },
     "execution_count": 51,
     "metadata": {},
     "output_type": "execute_result"
    }
   ],
   "source": [
    "x.shape"
   ]
  },
  {
   "cell_type": "markdown",
   "id": "c3986325",
   "metadata": {},
   "source": [
    "Pooling layer"
   ]
  },
  {
   "cell_type": "code",
   "execution_count": 52,
   "id": "5e33a2b1",
   "metadata": {},
   "outputs": [],
   "source": [
    "x = F.max_pool2d(x,2,2)"
   ]
  },
  {
   "cell_type": "markdown",
   "id": "f0545760",
   "metadata": {},
   "source": [
    "26/2=13"
   ]
  },
  {
   "cell_type": "code",
   "execution_count": 53,
   "id": "610f381d",
   "metadata": {},
   "outputs": [
    {
     "data": {
      "text/plain": [
       "torch.Size([1, 6, 13, 13])"
      ]
     },
     "execution_count": 53,
     "metadata": {},
     "output_type": "execute_result"
    }
   ],
   "source": [
    "x.shape"
   ]
  },
  {
   "cell_type": "markdown",
   "id": "202d2a79",
   "metadata": {},
   "source": [
    "DO second convo"
   ]
  },
  {
   "cell_type": "code",
   "execution_count": 54,
   "id": "6e64cd9c",
   "metadata": {},
   "outputs": [
    {
     "data": {
      "text/plain": [
       "torch.Size([1, 16, 11, 11])"
      ]
     },
     "execution_count": 54,
     "metadata": {},
     "output_type": "execute_result"
    }
   ],
   "source": [
    "x = F.relu(conv2(x))\n",
    "x.shape"
   ]
  },
  {
   "cell_type": "code",
   "execution_count": 56,
   "id": "34d47073",
   "metadata": {},
   "outputs": [
    {
     "data": {
      "text/plain": [
       "torch.Size([1, 16, 5, 5])"
      ]
     },
     "execution_count": 56,
     "metadata": {},
     "output_type": "execute_result"
    }
   ],
   "source": [
    "x=F.max_pool2d(x,2,2)\n",
    "x.shape"
   ]
  },
  {
   "cell_type": "code",
   "execution_count": 57,
   "id": "f8ee4e15",
   "metadata": {},
   "outputs": [],
   "source": [
    "#Model Class\n",
    "class convolutionnalNetwork(nn.Module):\n",
    "    def __init__(self, ):\n",
    "        super().__init__()\n",
    "        self.conv1=nn.Conv2d(1,6,3,1)\n",
    "        self.conv2=nn.Conv2d(6,16,3,1)\n",
    "        #fully connected layer/layers\n",
    "        self.fc1=nn.Linear(5*5*16,120) #120 neurons\n",
    "        self.fc2=nn.Linear(120,84)\n",
    "        self.fc3=nn.Linear(84,10) #has to ends in 10 for 0-9\n",
    "        \n",
    "    def forward(self,X):\n",
    "        X=F.relu(self.conv1(X))\n",
    "        X=F.max_pool2d(X,2,2)\n",
    "        \n",
    "        #second pass\n",
    "        X=F.relu(self.conv2(X))\n",
    "        X=F.max_pool2d(X,2,2)\n",
    "        \n",
    "        # Reviews data to fallter\n",
    "        X=X.view(-1,16*5*5) #negative one so that we can vary the batch size\n",
    "        \n",
    "        #fully connected layers\n",
    "        \n",
    "        X=F.relu(self.fc1(X))\n",
    "        X=F.relu(self.fc2(X))\n",
    "        X=self.fc3(X)\n",
    "        return F.log_softmax(X,dim=1)\n",
    "\n",
    "        \n",
    "        "
   ]
  },
  {
   "cell_type": "code",
   "execution_count": 58,
   "id": "b83ed01e",
   "metadata": {},
   "outputs": [],
   "source": [
    "#create instance of our model\n",
    "torch.manual_seed(41)\n",
    "model =convolutionnalNetwork()"
   ]
  },
  {
   "cell_type": "code",
   "execution_count": 59,
   "id": "c692d127",
   "metadata": {},
   "outputs": [
    {
     "data": {
      "text/plain": [
       "convolutionnalNetwork(\n",
       "  (conv1): Conv2d(1, 6, kernel_size=(3, 3), stride=(1, 1))\n",
       "  (conv2): Conv2d(6, 16, kernel_size=(3, 3), stride=(1, 1))\n",
       "  (fc1): Linear(in_features=400, out_features=120, bias=True)\n",
       "  (fc2): Linear(in_features=120, out_features=84, bias=True)\n",
       "  (fc3): Linear(in_features=84, out_features=10, bias=True)\n",
       ")"
      ]
     },
     "execution_count": 59,
     "metadata": {},
     "output_type": "execute_result"
    }
   ],
   "source": [
    "model"
   ]
  },
  {
   "cell_type": "code",
   "execution_count": 61,
   "id": "5d9f98fe",
   "metadata": {},
   "outputs": [],
   "source": [
    "# LOss function optimizer\n",
    "criterion =nn.CrossEntropyLoss()\n",
    "optimizer=torch.optim.Adam(model.parameters(),lr=0.001) # smaller lr ,longer its gonna take to train\n"
   ]
  },
  {
   "cell_type": "code",
   "execution_count": 62,
   "id": "42d3a260",
   "metadata": {},
   "outputs": [
    {
     "name": "stdout",
     "output_type": "stream",
     "text": [
      "Epoch 0 Batch 600 Loss 0.16236108541488647\n",
      "Epoch 0 Batch 1200 Loss 0.16145475208759308\n",
      "Epoch 0 Batch 1800 Loss 0.5041749477386475\n",
      "Epoch 0 Batch 2400 Loss 0.14436954259872437\n",
      "Epoch 0 Batch 3000 Loss 0.006633368786424398\n",
      "Epoch 0 Batch 3600 Loss 0.35364052653312683\n",
      "Epoch 0 Batch 4200 Loss 0.0035473357420414686\n",
      "Epoch 0 Batch 4800 Loss 0.001344313845038414\n",
      "Epoch 0 Batch 5400 Loss 0.06409706920385361\n",
      "Epoch 0 Batch 6000 Loss 0.0005210967501625419\n",
      "Epoch 1 Batch 600 Loss 0.004664862062782049\n",
      "Epoch 1 Batch 1200 Loss 0.22296497225761414\n",
      "Epoch 1 Batch 1800 Loss 0.0016253074863925576\n",
      "Epoch 1 Batch 2400 Loss 0.003696118714287877\n",
      "Epoch 1 Batch 3000 Loss 0.011839637532830238\n",
      "Epoch 1 Batch 3600 Loss 0.3428468704223633\n",
      "Epoch 1 Batch 4200 Loss 0.0257871113717556\n",
      "Epoch 1 Batch 4800 Loss 0.00033104867907240987\n",
      "Epoch 1 Batch 5400 Loss 0.0004970162408426404\n",
      "Epoch 1 Batch 6000 Loss 0.509151816368103\n",
      "Epoch 2 Batch 600 Loss 0.01782764308154583\n",
      "Epoch 2 Batch 1200 Loss 0.004009097348898649\n",
      "Epoch 2 Batch 1800 Loss 0.0016375783598050475\n",
      "Epoch 2 Batch 2400 Loss 0.007057047449052334\n",
      "Epoch 2 Batch 3000 Loss 0.01721378229558468\n",
      "Epoch 2 Batch 3600 Loss 0.0013611037284135818\n",
      "Epoch 2 Batch 4200 Loss 0.016981542110443115\n",
      "Epoch 2 Batch 4800 Loss 0.006109041161835194\n",
      "Epoch 2 Batch 5400 Loss 0.2243078649044037\n",
      "Epoch 2 Batch 6000 Loss 0.23758062720298767\n",
      "Epoch 3 Batch 600 Loss 0.005265881773084402\n",
      "Epoch 3 Batch 1200 Loss 0.025095069780945778\n",
      "Epoch 3 Batch 1800 Loss 0.004367596469819546\n",
      "Epoch 3 Batch 2400 Loss 2.851347380783409e-05\n",
      "Epoch 3 Batch 3000 Loss 0.00024249144189525396\n",
      "Epoch 3 Batch 3600 Loss 0.00015148746024351567\n",
      "Epoch 3 Batch 4200 Loss 0.09459710121154785\n",
      "Epoch 3 Batch 4800 Loss 0.0003499545273371041\n",
      "Epoch 3 Batch 5400 Loss 0.05616428330540657\n",
      "Epoch 3 Batch 6000 Loss 0.006574113853275776\n",
      "Epoch 4 Batch 600 Loss 0.0042230598628520966\n",
      "Epoch 4 Batch 1200 Loss 0.025197526440024376\n",
      "Epoch 4 Batch 1800 Loss 0.08539053052663803\n",
      "Epoch 4 Batch 2400 Loss 0.0018689902499318123\n",
      "Epoch 4 Batch 3000 Loss 0.0012193846050649881\n",
      "Epoch 4 Batch 3600 Loss 0.2032667100429535\n",
      "Epoch 4 Batch 4200 Loss 0.0032179453410208225\n",
      "Epoch 4 Batch 4800 Loss 0.0005105065065436065\n",
      "Epoch 4 Batch 5400 Loss 0.007020020391792059\n",
      "Epoch 4 Batch 6000 Loss 0.00013634809874929488\n",
      "Training time :2.7803502519925436 minutes\n"
     ]
    }
   ],
   "source": [
    "# track time\n",
    "import time\n",
    "start_time=time.time()\n",
    "\n",
    "# create variables to track things\n",
    "epochs=5\n",
    "train_losses=[]\n",
    "test_losses=[\n",
    "]\n",
    "train_correct=[]\n",
    "test_correct=[]\n",
    "\n",
    "\n",
    "\n",
    "#for loops for epochs\n",
    "for i in range(epochs):\n",
    "    \n",
    "    trn_corr=0\n",
    "    tst_corr=0\n",
    "    \n",
    "\n",
    "    #Train\n",
    "    for b,(X_train,y_train) in enumerate(train_loader):\n",
    "        b+=1\n",
    "        y_pred=model(X_train) # no need for flatten because convo1 expects 2d\n",
    "        loss=criterion(y_pred,y_train)\n",
    "        \n",
    "        predicted=torch.max(y_pred.data,1)[1] #add up the number of correct predictions.indexed off the first point\n",
    "        batch_corr=(predicted==y_train).sum()\n",
    "        trn_corr+=batch_corr #keep tracks as we go along in training\n",
    "        #Update params\n",
    "        optimizer.zero_grad()\n",
    "        loss.backward()\n",
    "        optimizer.step()\n",
    "        \n",
    "        \n",
    "        #Print results\n",
    "        if b%600 ==0:\n",
    "            print(f\"Epoch {i} Batch {b} Loss {loss.item()}\")\n",
    "    train_losses.append(loss)\n",
    "    train_correct.append(trn_corr)\n",
    "    \n",
    "    \n",
    "    \n",
    "    \n",
    "    #Tst\n",
    "    with torch.no_grad() : #No gradients because we dont want to update weights and biases\n",
    "        for b,(X_test,y_test) in enumerate(test_loader):\n",
    "            y_val=model(X_test)\n",
    "            predicted = torch.max(y_val.data,1)[1]\n",
    "            tst_corr+=(predicted==y_test).sum()\n",
    "    loss=criterion(y_val,y_test)\n",
    "    test_losses.append(loss)\n",
    "    test_correct.append(tst_corr)\n",
    "\n",
    "\n",
    "\n",
    "\n",
    "\n",
    "current_time=time.time()\n",
    "\n",
    "total_time=current_time-start_time\n",
    "print(f\"Training time :{total_time/60} minutes\")"
   ]
  },
  {
   "cell_type": "code",
   "execution_count": null,
   "id": "7268851e",
   "metadata": {},
   "outputs": [],
   "source": []
  }
 ],
 "metadata": {
  "kernelspec": {
   "display_name": "Python 3",
   "language": "python",
   "name": "python3"
  },
  "language_info": {
   "codemirror_mode": {
    "name": "ipython",
    "version": 3
   },
   "file_extension": ".py",
   "mimetype": "text/x-python",
   "name": "python",
   "nbconvert_exporter": "python",
   "pygments_lexer": "ipython3",
   "version": "3.11.3"
  }
 },
 "nbformat": 4,
 "nbformat_minor": 5
}
